{
 "cells": [
  {
   "cell_type": "code",
   "execution_count": 7,
   "id": "2facfa7b-1d8a-4f3b-a966-6ede34e2cb82",
   "metadata": {},
   "outputs": [
    {
     "name": "stdout",
     "output_type": "stream",
     "text": [
      "Found 500 images. Splitting using seed 4896...\n",
      "→ TRAIN: 300 images\n",
      "→ VAL: 100 images\n",
      "→ TEST: 100 images\n",
      "✅ Split complete.\n"
     ]
    }
   ],
   "source": [
    "import random\n",
    "from pathlib import Path\n",
    "from shutil import move\n",
    "\n",
    "\n",
    "try:\n",
    "    PROJECT_ROOT = Path(__file__).resolve().parent.parent\n",
    "except NameError:\n",
    "    PROJECT_ROOT = Path.cwd().parent\n",
    "\n",
    "BASE_DIR = PROJECT_ROOT / \"farm_backgrounds\"\n",
    "SEED = 4896\n",
    "SPLITS = {\"train\": 0.6, \"val\": 0.2, \"test\": 0.2}\n",
    "ALLOWED_EXTENSIONS = {\".jpg\", \".jpeg\", \".png\"}\n",
    "\n",
    "def main():\n",
    "    if not BASE_DIR.exists():\n",
    "        print(f\"Error: {BASE_DIR} does not exist.\")\n",
    "        return\n",
    "\n",
    "    all_images = [\n",
    "        p for p in BASE_DIR.iterdir()\n",
    "        if p.suffix.lower() in ALLOWED_EXTENSIONS\n",
    "        and p.is_file()\n",
    "    ]\n",
    "\n",
    "    total = len(all_images)\n",
    "    if total < 10:\n",
    "        print(\"Not enough images to split. Found:\", total)\n",
    "        return\n",
    "\n",
    "    print(f\"Found {total} images. Splitting using seed {SEED}...\")\n",
    "\n",
    "    random.seed(SEED)\n",
    "    random.shuffle(all_images)\n",
    "\n",
    "    n_train = int(total * SPLITS[\"train\"])\n",
    "    n_val = int(total * SPLITS[\"val\"])\n",
    "    n_test = total - n_train - n_val\n",
    "\n",
    "    split_map = {\n",
    "        \"train\": all_images[:n_train],\n",
    "        \"val\": all_images[n_train:n_train + n_val],\n",
    "        \"test\": all_images[n_train + n_val:]\n",
    "    }\n",
    "\n",
    "    for split_name, files in split_map.items():\n",
    "        split_dir = BASE_DIR / split_name\n",
    "        split_dir.mkdir(exist_ok=True)\n",
    "        print(f\"→ {split_name.upper()}: {len(files)} images\")\n",
    "        for file_path in files:\n",
    "            move(str(file_path), str(split_dir / file_path.name))\n",
    "\n",
    "    print(\"Split complete.\")\n",
    "\n",
    "if __name__ == \"__main__\":\n",
    "    main()\n"
   ]
  },
  {
   "cell_type": "code",
   "execution_count": null,
   "id": "e70fede6-18c5-4380-a97f-3aa3a9cb68f5",
   "metadata": {},
   "outputs": [],
   "source": []
  }
 ],
 "metadata": {
  "kernelspec": {
   "display_name": "Python 3 (ipykernel)",
   "language": "python",
   "name": "python3"
  },
  "language_info": {
   "codemirror_mode": {
    "name": "ipython",
    "version": 3
   },
   "file_extension": ".py",
   "mimetype": "text/x-python",
   "name": "python",
   "nbconvert_exporter": "python",
   "pygments_lexer": "ipython3",
   "version": "3.11.7"
  }
 },
 "nbformat": 4,
 "nbformat_minor": 5
}
